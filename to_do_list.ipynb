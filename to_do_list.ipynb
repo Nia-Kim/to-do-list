{
  "cells": [
    {
      "cell_type": "markdown",
      "metadata": {
        "id": "view-in-github",
        "colab_type": "text"
      },
      "source": [
        "<a href=\"https://colab.research.google.com/github/Nia-Kim/to-do-list/blob/main/to_do_list.ipynb\" target=\"_parent\"><img src=\"https://colab.research.google.com/assets/colab-badge.svg\" alt=\"Open In Colab\"/></a>"
      ]
    },
    {
      "cell_type": "markdown",
      "source": [
        "#To do List"
      ],
      "metadata": {
        "id": "9pKy1KDLb_hx"
      }
    },
    {
      "cell_type": "code",
      "source": [
        "todo_list = []\n",
        "\n",
        "while True:\n",
        "    print(\"\\n원하는 작업의 번호를 입력하세요.\\n1. 할 일 추가\\n2. 할 일 수정\\n3. 할 일 삭제\\n3. 종료\")\n",
        "    task = int(input(\"\\n작업 선택: \"))\n",
        "    sc = 1 #while문 on을 위한 스위치 (0은 off, 1은 on)\n",
        "\n",
        "    # 1번 입력 시 추가\n",
        "    if task == 1:\n",
        "\n",
        "        while sc == 1:\n",
        "            todo = input(\"\\n할 일 입력: (뒤로가기 B)\")\n",
        "\n",
        "            if todo.upper() == \"B\": #뒤로 가기\n",
        "                sc = 0\n",
        "\n",
        "            else:\n",
        "                todo_list.append(todo) #할 일 추가하기\n",
        "                for idx, t in enumerate(todo_list, 1):\n",
        "                    print(f\"{idx}. {t}\")\n",
        "\n",
        "    # 2번 입력 시 수정\n",
        "    elif task == 2:\n",
        "        #수정할 할 일 번호 선택\n",
        "        while sc == 1:\n",
        "            toedit = input(\"\\n수정할 할 일의 번호를 입력하세요.: (뒤로가기 B)\")\n",
        "\n",
        "            if todo.upper() == \"B\":\n",
        "                sc = 0\n",
        "#코드\n",
        "            else:\n",
        "\n",
        "if len(todo_list == 0:\n",
        "            print(\"할 일 목록에 데이터가 존재하지 않습니다.\")\n",
        "\n",
        "        else:\n",
        "\n",
        "\n",
        "\n",
        "\n",
        "\n",
        "\n",
        "    # 3번 입력 시 삭제\n",
        "    elif task == 3:\n",
        "        if len(todo_list) == 0:\n",
        "            print(\"할 일 목록에 데이터가 존재하지 않습니다.\")\n",
        "\n",
        "        else:\n",
        "            while sc == 1:\n",
        "                todel = int(input(\"\\n삭제할 할 일의 번호를 입력하세요.: (뒤로가기 B)\"))\n",
        "\n",
        "#B 누르면 어떻게 될지 써야함\n",
        "\n",
        "                if len(todo_list) < todel:\n",
        "                    print(\"존재하지 않는 번호입니다.\")\n",
        "\n",
        "                else:\n",
        "                    todo_list.pop(todel-1)\n",
        "\n",
        "                    for idx, t in enumerate(todo_list, 1):\n",
        "                        print(f\"{idx}. {t}\")\n",
        "                    break #여기도 수정할지 말지 고민\n",
        "\n",
        "    # 4번 입력 시 종료\n",
        "    else:\n",
        "        print(\"\\n작업 종료\")\n",
        "        break"
      ],
      "metadata": {
        "id": "ZycE1RJPgHHQ",
        "colab": {
          "base_uri": "https://localhost:8080/"
        },
        "outputId": "90adaba3-cbc4-4aa3-e121-4522fa233dda"
      },
      "execution_count": null,
      "outputs": [
        {
          "output_type": "stream",
          "name": "stdout",
          "text": [
            "\n",
            "원하는 작업의 번호를 입력하세요.\n",
            "1. 할 일 추가\n",
            "2. 할 일 수정\n",
            "3. 할 일 삭제\n",
            "3. 종료\n",
            "\n",
            "작업 선택: 2\n",
            "\n",
            "작업 종료\n"
          ]
        }
      ]
    },
    {
      "cell_type": "markdown",
      "source": [
        "수정하는거랑 조회하는거 만들어야함\n",
        "언제까지 할건지도 포함?\n",
        "예쁘게 만드는건 아직?"
      ],
      "metadata": {
        "id": "wymVw22bBOdz"
      }
    }
  ],
  "metadata": {
    "colab": {
      "provenance": [],
      "include_colab_link": true
    },
    "kernelspec": {
      "display_name": "Python 3",
      "name": "python3"
    }
  },
  "nbformat": 4,
  "nbformat_minor": 0
}